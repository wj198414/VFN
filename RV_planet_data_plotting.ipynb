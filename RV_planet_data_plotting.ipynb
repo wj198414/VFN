{
 "cells": [
  {
   "cell_type": "code",
   "execution_count": 700,
   "metadata": {},
   "outputs": [],
   "source": [
    "import numpy as np\n",
    "import matplotlib.pyplot as plt\n",
    "import astropy.io.ascii \n",
    "from astropy import units as u"
   ]
  },
  {
   "cell_type": "code",
   "execution_count": 701,
   "metadata": {},
   "outputs": [],
   "source": [
    "tab = astropy.io.ascii.read(\"planets_2020.04.23_19.58.57.csv\")"
   ]
  },
  {
   "cell_type": "code",
   "execution_count": 702,
   "metadata": {},
   "outputs": [
    {
     "name": "stdout",
     "output_type": "stream",
     "text": [
      "['pl_hostname', 'pl_letter', 'pl_name', 'pl_discmethod', 'pl_controvflag', 'pl_pnum', 'pl_orbper', 'pl_orbpererr1', 'pl_orbpererr2', 'pl_orbperlim', 'pl_orbsmax', 'pl_orbsmaxerr1', 'pl_orbsmaxerr2', 'pl_orbsmaxlim', 'pl_orbeccen', 'pl_orbeccenerr1', 'pl_orbeccenerr2', 'pl_orbeccenlim', 'pl_orbincl', 'pl_orbinclerr1', 'pl_orbinclerr2', 'pl_orbincllim', 'pl_bmassj', 'pl_bmassjerr1', 'pl_bmassjerr2', 'pl_bmassjlim', 'pl_bmassprov', 'pl_radj', 'pl_radjerr1', 'pl_radjerr2', 'pl_radjlim', 'pl_dens', 'pl_denserr1', 'pl_denserr2', 'pl_denslim', 'pl_ttvflag', 'pl_kepflag', 'pl_k2flag', 'pl_nnotes', 'ra_str', 'ra', 'dec_str', 'dec', 'st_dist', 'st_disterr1', 'st_disterr2', 'st_distlim', 'gaia_dist', 'gaia_disterr1', 'gaia_disterr2', 'gaia_distlim', 'st_optmag', 'st_optmagerr', 'st_optmaglim', 'st_optband', 'gaia_gmag', 'gaia_gmagerr', 'gaia_gmaglim', 'st_teff', 'st_tefferr1', 'st_tefferr2', 'st_tefflim', 'st_mass', 'st_masserr1', 'st_masserr2', 'st_masslim', 'st_rad', 'st_raderr1', 'st_raderr2', 'st_radlim', 'rowupdate', 'pl_facility', 'st_vj', 'st_vjerr', 'st_vjlim', 'st_j', 'st_jerr', 'st_jlim', 'st_h', 'st_herr', 'st_hlim', 'st_k', 'st_kerr', 'st_klim', 'st_wise1', 'st_wise1err', 'st_wise1lim', 'st_wise2', 'st_wise2err', 'st_wise2lim']\n",
      "4152\n"
     ]
    }
   ],
   "source": [
    "print(tab.colnames)\n",
    "print(len(tab))"
   ]
  },
  {
   "cell_type": "markdown",
   "metadata": {},
   "source": [
    "## calculate contrast, separation, and select targets"
   ]
  },
  {
   "cell_type": "code",
   "execution_count": 704,
   "metadata": {},
   "outputs": [
    {
     "name": "stdout",
     "output_type": "stream",
     "text": [
      "55 Cnc c 44.4175 0.241376 0.1714 0.781144196188202 12.59 5196.0 0.91 7.175622329345894e-07 0.01917204130277134 28.330818 4.015 4.001\n",
      "GJ 1148 b 41.38 0.166 0.30425 1.095899867063151 11.02 3264.0 0.35 2.9861450291544766e-06 0.015063520871261397 42.751972 6.822 6.672\n",
      "GJ 3512 b 203.59 0.338 0.463 1.1344084308971603 9.49 3081.0 0.12 7.717751920507192e-07 0.03561643835644343 59.497391 8.668 --\n",
      "GJ 876 b 61.1166 0.208317 2.2756 1.06440976008945 4.68 -- 0.32 1.788766262338664e-06 0.04451217948752824 -14.2637 5.01 4.863\n",
      "GJ 876 c 30.0881 0.12959 0.7142 1.114910206695119 4.68 -- 0.32 5.071332979895513e-06 0.027690170940387893 -14.2637 5.01 4.863\n",
      "HD 3651 b 62.25 0.295 0.228 0.9243711610616583 11.14 5221.0 0.8 6.727195786762944e-07 0.026481149012774798 21.250473 3.999 3.786\n",
      "HIP 79431 b 111.7 0.36 2.1 1.0678344146073064 14.54 3368.0 0.42 6.028206892670875e-07 0.024759284731968402 -18.875504 6.589 6.508\n"
     ]
    }
   ],
   "source": [
    "contrast_arr = np.zeros((len(tab)))\n",
    "sma_arr = np.zeros((len(tab)))\n",
    "sep_arr = np.zeros((len(tab)))\n",
    "rad_arr = np.zeros((len(tab)))\n",
    "dis_arr = np.zeros((len(tab)))\n",
    "\n",
    "def cal_rad(mass):\n",
    "    if mass < (2.0 * u.earthMass):\n",
    "        rad = (((mass / (1.0 * u.earthMass)).decompose())**(0.28) * u.earthRad).to(u.jupiterRad)\n",
    "    elif mass < (0.41 * u.jupiterMass):\n",
    "        rad = (((mass / (14.5 * u.earthMass)).decompose())**(0.59) * (4.01 * u.earthRad)).to(u.jupiterRad)\n",
    "    elif mass < (0.08 * u.solMass):\n",
    "        rad = ((mass / (1 * u.jupiterMass)).decompose())**(-0.04) * (1.1 * u.jupiterRad)\n",
    "    else:\n",
    "        rad = ((mass / (0.08 * u.solMass)).decompose())**(0.88) * (0.95 * u.jupiterRad) \n",
    "    return(rad)\n",
    "\n",
    "\n",
    "for i, tmp in enumerate(tab[\"pl_name\"]):\n",
    "    if tab[\"pl_orbper\"].mask[i] == False:\n",
    "        # calculating sma\n",
    "        if tab[\"pl_orbsmax\"].mask[i] == True:\n",
    "            if tab[\"st_mass\"].mask[i] == True:\n",
    "                sma = ((tab[\"pl_orbper\"][i] / 365.0)**2 * 1.0)**(0.33) * u.AU\n",
    "            else:\n",
    "                sma = ((tab[\"pl_orbper\"][i] / 365.0)**2 * tab[\"st_mass\"][i])**(0.33) * u.AU\n",
    "        else:\n",
    "            sma = tab[\"pl_orbsmax\"][i] * u.AU\n",
    "\n",
    "        # calculating angular separation\n",
    "        if tab[\"gaia_dist\"].mask[i] == True:\n",
    "            if tab[\"gaia_dist\"].mask[i] == True:\n",
    "                dis = 999 * u.parsec\n",
    "            else:\n",
    "                dis = tab[\"st_dist\"][i] * u.parsec\n",
    "        else:\n",
    "            dis = tab[\"gaia_dist\"][i] * u.parsec\n",
    "        sep = ((sma / dis).decompose() * u.radian).to(u.arcsec)\n",
    "\n",
    "        # calculating planet radius, https://arxiv.org/pdf/1603.08614.pdf\n",
    "        if tab[\"pl_radj\"].mask[i] == True:\n",
    "            if tab[\"pl_bmassj\"].mask[i] == False:\n",
    "                mass = tab[\"pl_bmassj\"][i] * u.jupiterMass\n",
    "                rad = cal_rad(mass)\n",
    "            else:\n",
    "                rad = 1.0 * u.jupiterRad\n",
    "        else:\n",
    "            rad = tab[\"pl_radj\"][i] * u.jupiterRad\n",
    "\n",
    "        # calculating contrast\n",
    "        albedo = 0.3\n",
    "        con = ((rad / sma).decompose())**2 * albedo\n",
    "\n",
    "        sma_arr[i] = sma.value\n",
    "        sep_arr[i] = sep.value\n",
    "        rad_arr[i] = rad.value\n",
    "        contrast_arr[i] = con\n",
    "        dis_arr[i] = dis.value\n",
    "        \n",
    "        if (con > 5e-7) & (sep.value > 15e-3):\n",
    "            if tab[\"dec\"][i] > 0.0:\n",
    "                print(tab[\"pl_name\"][i], tab[\"pl_orbper\"][i], sma.value, tab[\"pl_bmassj\"][i], rad.value, \\\n",
    "                      dis.value, tab[\"st_teff\"][i], tab[\"st_mass\"][i], con, sep.value, tab[\"dec\"][i], \\\n",
    "                      tab[\"st_k\"][i], tab[\"st_wise1\"][i])\n",
    "            else:\n",
    "                print(tab[\"pl_name\"][i], tab[\"pl_orbper\"][i], sma.value, tab[\"pl_bmassj\"][i], rad.value, \\\n",
    "                      dis.value, tab[\"st_teff\"][i], tab[\"st_mass\"][i], con, sep.value, tab[\"dec\"][i], \\\n",
    "                      tab[\"st_k\"][i], tab[\"st_wise1\"][i])\n",
    "#         elif tab[\"pl_name\"][i] == \"Ross 128 b\":\n",
    "#              print(tab[\"pl_name\"][i], tab[\"pl_orbper\"][i], sma.value, tab[\"pl_bmassj\"][i], rad.value, \\\n",
    "#                   dis.value, tab[\"st_teff\"][i], tab[\"st_mass\"][i], con, sep.value, tab[\"dec\"][i])           \n",
    "        else:\n",
    "            1 == 1\n",
    "    else:\n",
    "        sma_arr[i] = 1.0\n",
    "        sep_arr[i] = 1e-5\n",
    "        rad_arr[i] = 1.0\n",
    "        contrast_arr[i] = 1e-10       \n",
    "        dis_arr[i] = 1e3"
   ]
  },
  {
   "cell_type": "markdown",
   "metadata": {},
   "source": [
    "## Plot selected targets"
   ]
  },
  {
   "cell_type": "code",
   "execution_count": 705,
   "metadata": {},
   "outputs": [
    {
     "data": {
      "image/png": "[encoded data removed]",
      "text/plain": [
       "<Figure size 432x432 with 1 Axes>"
      ]
     },
     "metadata": {
      "needs_background": "light"
     },
     "output_type": "display_data"
    }
   ],
   "source": [
    "con_threshold = 5e-7\n",
    "sep_threshold = 15e-3\n",
    "\n",
    "plt.figure(figsize=(6,6))\n",
    "\n",
    "font_size = 15\n",
    "plt.plot(sep_arr, contrast_arr, 'k.')\n",
    "plt.xscale(\"log\")\n",
    "plt.yscale(\"log\")\n",
    "plt.xlabel(\"Separation [arcsec]\", fontsize=font_size)\n",
    "plt.ylabel(\"Contrast\", fontsize=font_size)\n",
    "plt.gca().tick_params(labelsize=font_size)\n",
    "\n",
    "plt.xlim(5e-3, 1e-1)\n",
    "plt.ylim(1e-7, 1e-5)\n",
    "\n",
    "lambda_D = (((3.5 * u.micron) / (22.4 * u.meter).decompose()) * u.radian).to(u.arcsec)\n",
    "plt.vlines(lambda_D.value, 1e-10, 1e-5, color=\"red\", linestyle=\"dashed\")\n",
    "\n",
    "lambda_D = (((2.0 * u.micron) / (22.4 * u.meter).decompose()) * u.radian).to(u.arcsec)\n",
    "plt.vlines(lambda_D.value, 1e-10, 1e-5, color=\"blue\", linestyle=\"dashed\")\n",
    "\n",
    "plt.hlines(5e-7, 1e-3, 1e-1, color=\"k\", linestyle=\"solid\")\n",
    "\n",
    "ind = np.where((contrast_arr > con_threshold) & (sep_arr > sep_threshold))\n",
    "rot_arr = np.array([90,0,0,0,0,0,90])\n",
    "for ii, i in enumerate(np.array(ind).flatten()):\n",
    "    if (tab[\"dec\"][i] > 0.0):\n",
    "        plt.plot(sep_arr[i], contrast_arr[i], color=\"r\", ms=15, marker=\"+\")\n",
    "        plt.annotate(tab[\"pl_name\"][i], xy=(sep_arr[i] * 1.1, contrast_arr[i]), rotation=rot_arr[ii], color=\"red\")\n",
    "    else:\n",
    "        plt.plot(sep_arr[i], contrast_arr[i], color=\"b\", ms=8, marker=\"x\")\n",
    "        plt.annotate(tab[\"pl_name\"][i], xy=(sep_arr[i] * 1.1, contrast_arr[i]), rotation=rot_arr[ii], color=\"blue\")"
   ]
  },
  {
   "cell_type": "markdown",
   "metadata": {},
   "source": [
    "![title](eq4.png)\n"
   ]
  },
  {
   "cell_type": "code",
   "execution_count": 706,
   "metadata": {},
   "outputs": [],
   "source": [
    "# http://www.stsci.edu/~strolger/docs/UNITS.txt\n",
    "\n",
    "import astropy.constants as ac\n",
    "\n",
    "def cal_t0(mag=0.0, filt=\"K\", SNR=5.0, R=1e5, pl_st_con=1e-5, aper=11.8, eta=0.1, q=0.95):\n",
    "    if filt == \"K\":\n",
    "        wav = 2.0 * u.micron\n",
    "        f_zero = 3.90e-11 * u.erg / (u.cm)**2/ u.s / u.AA\n",
    "    elif filt == \"L\":\n",
    "        wav = 3.5 * u.micron\n",
    "        f_zero = 8.1e-12 * u.erg / (u.cm)**2/ u.s / u.AA\n",
    "        \n",
    "    e_ph = ac.h * ac.c / wav\n",
    "    f_zero = f_zero / e_ph\n",
    "    \n",
    "    f = f_zero / 2.512**(mag)\n",
    "    A = np.pi * (aper / 2.0 * u.meter)**2 * 2.0 # two sub-apertures\n",
    "    \n",
    "    t0 = R * SNR**2 / (wav * pl_st_con**2 * f * A * q * eta)\n",
    "    t0 = t0.decompose()\n",
    "    \n",
    "    return(t0)\n",
    "    \n",
    "    "
   ]
  },
  {
   "cell_type": "markdown",
   "metadata": {},
   "source": [
    "![title](eq9.png)\n"
   ]
  },
  {
   "cell_type": "code",
   "execution_count": 708,
   "metadata": {},
   "outputs": [],
   "source": [
    "def cal_tL(b=[1.0], w=[1e-1], t0 = None, eta_p=1e-1):\n",
    "    tL = 0.0 * u.s\n",
    "    for bi, wi in zip(b, w):\n",
    "        tL = tL + t0 / (eta_p)**2 * (bi * wi)**2\n",
    "    return(tL)"
   ]
  },
  {
   "cell_type": "markdown",
   "metadata": {},
   "source": [
    "![](eq12.png)\n"
   ]
  },
  {
   "cell_type": "code",
   "execution_count": 632,
   "metadata": {},
   "outputs": [],
   "source": [
    "def cal_tbg(t0=None, eta_p=1e-1, mag_bg=0.0, mag=0.0, fiber_area=1.0):\n",
    "    # https://www2.keck.hawaii.edu/inst/nirc2/filters.html\n",
    "    # skg bg = 12.2 in K and 2.9 in L\n",
    "    f_bg_over_f_star = 2.512**(mag - mag_bg) * fiber_area # fiber_area in arcsec**2\n",
    "    tbg = f_bg_over_f_star * t0 / (eta_p)**2\n",
    "    return(tbg)"
   ]
  },
  {
   "cell_type": "markdown",
   "metadata": {},
   "source": [
    "![](eq13.png)\n"
   ]
  },
  {
   "cell_type": "code",
   "execution_count": 635,
   "metadata": {},
   "outputs": [],
   "source": [
    "def cal_dc(mag=0.0, filt=\"K\", R=1e5, aper=11.8, eta=0.1, q=0.95, t0=None, eta_p=1e-1, i_dark=1.0, pixel_sampling=3.0):\n",
    "    if filt == \"K\":\n",
    "        wav = 2.0 * u.micron\n",
    "        f_zero = 3.90e-11 * u.erg / (u.cm)**2/ u.s / u.AA\n",
    "    elif filt == \"L\":\n",
    "        wav = 3.5 * u.micron\n",
    "        f_zero = 8.1e-12 * u.erg / (u.cm)**2/ u.s / u.AA\n",
    "        \n",
    "    e_ph = ac.h * ac.c / wav\n",
    "    f_zero = f_zero / e_ph\n",
    "    \n",
    "    f = f_zero / 2.512**(mag)\n",
    "    A = np.pi * (aper / 2.0 * u.meter)**2\n",
    "    \n",
    "    signal_pixel = (f * wav *  A * q * eta / (R * pixel_sampling)).decompose()\n",
    "    dc_pixel = i_dark / u.s\n",
    "    \n",
    "    tdc = (dc_pixel / signal_pixel * t0 / (eta_p)**2).decompose()\n",
    "    \n",
    "    return(tdc)"
   ]
  },
  {
   "cell_type": "markdown",
   "metadata": {},
   "source": [
    "![](eq14.png)"
   ]
  },
  {
   "cell_type": "code",
   "execution_count": 638,
   "metadata": {},
   "outputs": [],
   "source": [
    "def cal_trd(Nrd=2.0, eta_s=1e-5, eta_p=1e-1, t0=None, W=2**16):\n",
    "    trd = Nrd**2 / W * eta_s / (eta_p)**2 * t0\n",
    "    return(trd)\n"
   ]
  },
  {
   "cell_type": "markdown",
   "metadata": {},
   "source": [
    "![](eq7.png)"
   ]
  },
  {
   "cell_type": "code",
   "execution_count": 642,
   "metadata": {},
   "outputs": [],
   "source": [
    "def cal_tfs(Rs=1.0, dis=10.0, aper=22.8, filt=\"K\", t0=None, eta_p=1e-1):\n",
    "    if filt == \"K\":\n",
    "        wav = 2.0 * u.micron\n",
    "    elif filt == \"L\":\n",
    "        wav = 3.5 * u.micron\n",
    "\n",
    "    Rs = Rs * u.solRad\n",
    "    dis = dis * u.parsec\n",
    "    aper = aper * u.meter\n",
    "    \n",
    "    tfs = (Rs / dis / np.sqrt(12) * aper / wav)**2 / (eta_p)**2 * t0\n",
    "    tfs = tfs.decompose()\n",
    "    return(tfs)"
   ]
  },
  {
   "cell_type": "markdown",
   "metadata": {},
   "source": [
    "## Now let's put all togher to calculate the required exposure time for a target"
   ]
  },
  {
   "cell_type": "code",
   "execution_count": 710,
   "metadata": {},
   "outputs": [],
   "source": [
    "def find_eta_p(sep):\n",
    "    tab = astropy.io.ascii.read(\"sep_eta_p_charge_1.txt\")\n",
    "    x = tab[\"col1\"]\n",
    "    y = tab[\"col2\"]\n",
    "    return(np.interp(sep, x, y))\n",
    "    "
   ]
  },
  {
   "cell_type": "code",
   "execution_count": 711,
   "metadata": {},
   "outputs": [],
   "source": [
    "def calc_total_time(star_name=None, filt=\"K\", mag_bg=12.2, b_arr=b_arr, w_arr=w_arr, eta=0.1, baseline=22.8):\n",
    "    \n",
    "    eta_s = np.sum((b_arr * w_arr)**2)\n",
    "\n",
    "    ind = np.where(tab[\"pl_name\"] == star_name)[0][0]\n",
    "    pl_st_con = contrast_arr[ind]\n",
    "    sep = sep_arr[ind]\n",
    "    aper = 8.4\n",
    "    baseline = 22.4\n",
    "    q = 0.95\n",
    "    R = 1e5\n",
    "    pixel_sampling = 3.0\n",
    "    SNR = 5.0\n",
    "    if tab[\"st_rad\"].mask[ind] == False:\n",
    "        Rs = tab[\"st_rad\"][ind]\n",
    "    else:\n",
    "        if tab[\"st_mass\"].mask[ind] == False:\n",
    "            mass = tab[\"st_mass\"][ind] * u.solMass\n",
    "            Rs = cal_rad(mass).to(u.solRad).value\n",
    "        else:\n",
    "            Rs = 999.0 \n",
    "    \n",
    "    dis = dis_arr[ind]\n",
    "    \n",
    "    if filt == \"K\":\n",
    "        mag = tab[\"st_k\"][ind]\n",
    "        wav = 2.0 * u.micron\n",
    "    elif filt == \"L\":\n",
    "        wav = 3.5 * u.micron\n",
    "        if tab[\"st_wise1\"].mask[ind] == False:\n",
    "            mag = tab[\"st_wise1\"][ind]\n",
    "        else:\n",
    "            mag = tab[\"st_k\"][ind]\n",
    "    else:\n",
    "        wav = 999 * u.micron\n",
    "        mag = 999\n",
    "        \n",
    "    lambda_D = ((wav / (baseline * u.meter)).decompose() * u.radian).to(u.arcsec)\n",
    "        \n",
    "    if baseline != aper:\n",
    "        fiber_area = np.pi * ((((1.4 * wav / (baseline * u.meter) / 2.0).decompose()) * u.radian).to(u.arcsec).value)**2\n",
    "        fiber_area = fiber_area / (baseline / aper / np.sqrt(2))\n",
    "    else:\n",
    "        fiber_area = np.pi * ((((1.4 * wav / (baseline * u.meter) / 2.0).decompose()) * u.radian).to(u.arcsec).value)**2\n",
    "\n",
    "    Nrd = 2.0\n",
    "    W = 2**16\n",
    "    i_dark = 1e-2\n",
    "\n",
    "    t0 = cal_t0(mag=mag, filt=filt, SNR=SNR, R=R, pl_st_con=pl_st_con, aper=aper, eta=eta, q=q)\n",
    "    \n",
    "    eta_p = find_eta_p(sep / lambda_D.value)\n",
    "\n",
    "    tfs = cal_tfs(Rs=Rs, dis=dis, aper=baseline, filt=filt, t0=t0, eta_p=eta_p)\n",
    "\n",
    "    tL = cal_tL(b=b_arr, w=w_arr, t0 = t0, eta_p=eta_p)\n",
    "\n",
    "    tbg = cal_tbg(t0=t0, eta_p=eta_p, mag_bg=mag_bg, mag=mag, fiber_area=fiber_area)\n",
    "\n",
    "    trd = cal_trd(Nrd=Nrd, eta_s=eta_s, eta_p=eta_p, t0=t0, W=W)\n",
    "\n",
    "    tdc = cal_dc(mag=mag, filt=filt, R=R, aper=aper, eta=eta, q=q, t0=t0, eta_p=eta_p, i_dark=i_dark, \\\n",
    "             pixel_sampling=pixel_sampling)\n",
    "\n",
    "    t_total = tfs + tL + tbg + trd + tdc\n",
    "    \n",
    "    with open(star_name+\".txt\", \"wb\") as f:\n",
    "        f.write(bytes(\"\\multicolumn{4}{c}{\\\\bf{Star Parameters}}\\\\\\\\\\n\", \"UTF-8\"))\n",
    "        f.write(bytes(\"star name\\t\\t&=& {0:<30s}&\\\\\\\\\\n\".format(star_name), \"UTF-8\"))\n",
    "        f.write(bytes(\"magnitude\\t\\t&=& {0:<6.2f} &mag\\\\\\\\\\n\".format(mag), \"UTF-8\"))\n",
    "        f.write(bytes(\"distance\\t\\t&=& {0:<10.2f} &pc\\\\\\\\\\n\".format(dis), \"UTF-8\"))\n",
    "        f.write(bytes(\"star radius\\t\\t&=& {0:<6.2f} &solar radii\\\\\\\\\\n\".format(Rs), \"UTF-8\"))\n",
    "        f.write(bytes(\"planet-star contrast\\t&=& {0:<8.2e}&\\\\\\\\\\n\".format(pl_st_con), \"UTF-8\"))\n",
    "        f.write(bytes(\"planet-star separation\\t&=& {0:<8.2f} &mas\\\\\\\\\\n\".format(sep * 1e3), \"UTF-8\"))\n",
    "        f.write(bytes(\"\\multicolumn{4}{c}{\\\\bf{Telescope Parameters}}\\\\\\\\\\n\", \"UTF-8\"))\n",
    "        f.write(bytes(\"aperture\\t\\t&=& {0:<8.2f} &meter\\\\\\\\\\n\".format(aper), \"UTF-8\"))\n",
    "        f.write(bytes(\"baseline\\t\\t&=& {0:<8.2f} &meter\\\\\\\\\\n\".format(baseline), \"UTF-8\"))\n",
    "        f.write(bytes(\"wavelength\\t\\t&=& {0:<8.2f} &um\\\\\\\\\\n\".format(wav.value), \"UTF-8\"))\n",
    "        f.write(bytes(\"lambda/D\\t\\t&=& {0:<8.2f} &mas\\\\\\\\\\n\".format(lambda_D.value * 1e3), \"UTF-8\"))\n",
    "        f.write(bytes(\"\\multicolumn{4}{c}{\\\\bf{Coronagraph Parameters}}\\\\\\\\\\n\", \"UTF-8\"))\n",
    "        f.write(bytes(\"filter\\t\\t\\t&=& {0:<10s}&\\\\\\\\\\n\".format(filt), \"UTF-8\"))\n",
    "        f.write(bytes(\"starlight suppression\\t&=& {0:<8.2e}&\\\\\\\\\\n\".format(eta_s), \"UTF-8\"))\n",
    "        f.write(bytes(\"planet throughput\\t&=& {0:<8.2e}&\\\\\\\\\\n\".format(eta_p), \"UTF-8\"))\n",
    "        f.write(bytes(\"bmn array\\t\\t&=& {0:<100s}&\\\\\\\\\\n\".format(str(b_arr)), \"UTF-8\"))\n",
    "        f.write(bytes(\"aberration array\\t&=& {0:<100s}&\\\\\\\\\\n\".format(str(w_arr)), \"UTF-8\"))\n",
    "        f.write(bytes(\"\\multicolumn{4}{c}{\\\\bf{Spectrograph Parameters}}\\\\\\\\\\n\", \"UTF-8\"))\n",
    "        f.write(bytes(\"required SNR\\t\\t&=& {0:<8.1f}&\\\\\\\\\\n\".format(SNR), \"UTF-8\"))\n",
    "        f.write(bytes(\"background\\t\\t&=& {0:<6.2f} &mag / arcsec**2\\\\\\\\\\n\".format(mag_bg), \"UTF-8\"))\n",
    "        f.write(bytes(\"spectral resolution\\t&=& {0:<8.0f}&\\\\\\\\\\n\".format(R), \"UTF-8\"))\n",
    "        f.write(bytes(\"pixel sampling rate\\t&=& {0:<5.1f} &pixel per resolution element\\\\\\\\\\n\".format(pixel_sampling), \"UTF-8\"))\n",
    "        f.write(bytes(\"system throughput\\t&=& {0:<6.3f}&\\\\\\\\\\n\".format(eta), \"UTF-8\"))\n",
    "        f.write(bytes(\"fiber size\\t\\t&=& {0:<8.2e} &arcsec**2\\\\\\\\\\n\".format(fiber_area), \"UTF-8\"))\n",
    "        f.write(bytes(\"\\multicolumn{4}{c}{\\\\bf{Detector Parameters}}\\\\\\\\\\n\", \"UTF-8\"))\n",
    "        f.write(bytes(\"dark current\\t\\t&=& {0:<8.2e} &electron/pixel/s\\\\\\\\\\n\".format(i_dark), \"UTF-8\"))\n",
    "        f.write(bytes(\"readout noise\\t\\t&=& {0:<8.4f} &electron/read\\\\\\\\\\n\".format(Nrd), \"UTF-8\"))\n",
    "        f.write(bytes(\"quantum efficiency\\t&=& {0:<6.3f}&\\\\\\\\\\n\".format(q), \"UTF-8\"))\n",
    "        f.write(bytes(\"well depth\\t\\t&=& {0:<8.0f} &ADU\\\\\\\\\\n\".format(W), \"UTF-8\"))\n",
    "        f.write(bytes(\"\\multicolumn{4}{c}{\\\\bf{Exposure Times}}\\\\\\\\\\n\", \"UTF-8\"))\n",
    "        f.write(bytes(\"t0\\t\\t\\t&=& {0:<10.5e} &s\\\\\\\\\\n\".format(t0.value), \"UTF-8\"))\n",
    "        f.write(bytes(\"finite star time\\t&=& {0:<10.5e} &s\\\\\\\\\\n\".format(tfs.value), \"UTF-8\"))\n",
    "        f.write(bytes(\"low order time\\t\\t&=& {0:<10.5e} &s\\\\\\\\\\n\".format(tL.value), \"UTF-8\"))\n",
    "        f.write(bytes(\"background time\\t\\t&=& {0:<10.5e} &s\\\\\\\\\\n\".format(tbg.value), \"UTF-8\"))\n",
    "        f.write(bytes(\"readout noise time\\t&=& {0:<10.5e} &s\\\\\\\\\\n\".format(trd.value), \"UTF-8\"))\n",
    "        f.write(bytes(\"dark current time\\t&=& {0:<10.5e} &s\\\\\\\\\\n\".format(tdc.value), \"UTF-8\"))\n",
    "        f.write(bytes(\"total time\\t\\t&=& {0:<10.5e} &s\\\\\\\\\\n\".format(t_total.value), \"UTF-8\"))\n",
    "        f.write(bytes(\"total time\\t\\t&=& {0:<10.2f} &hour\\\\\\\\\\n\".format(t_total.to(u.hour).value), \"UTF-8\"))\n",
    "\n",
    "    print(\"total time = \", t_total.to(u.hour))\n",
    "    print(\"More detals in \"+star_name+\".txt\")\n",
    "    print(\"{0:20s} & {1:6.1f} & {2:5.1f} & & {3:6.3f} & {4:6.2f} & {5:8.2e} & {6:6.1f} & {7:5.2f} & {8:10.2f} & & \\\\\\\\\\n\".format(\\\n",
    "        star_name, dis, mag, sma_arr[ind], rad_arr[ind], pl_st_con, sep_arr[ind] * 1e3, sep_arr[ind] / lambda_D.value, \\\n",
    "        t_total.to(u.hour).value))\n",
    "\n",
    "    "
   ]
  },
  {
   "cell_type": "markdown",
   "metadata": {},
   "source": [
    "## K band results"
   ]
  },
  {
   "cell_type": "code",
   "execution_count": 714,
   "metadata": {},
   "outputs": [],
   "source": [
    "b_arr = np.array([2.00, 0.43, 0.50, 0.31, 0.21, 0.39, 0.06, 0.04, 0.17, 0.09])\n",
    "w_arr = np.array([1e-2] * len(b_arr))\n",
    "mag_bg = 12.2\n",
    "filt = \"K\"\n",
    "eta = 0.1\n"
   ]
  },
  {
   "cell_type": "code",
   "execution_count": 715,
   "metadata": {},
   "outputs": [
    {
     "name": "stdout",
     "output_type": "stream",
     "text": [
      "total time =  5548.002169682297 h\n",
      "More detals in 55 Cnc c.txt\n",
      "55 Cnc c             &   12.6 &   4.0 & &  0.241 &   0.78 & 7.18e-07 &   19.2 &  1.04 &    5548.00 & & \\\\\n",
      "\n",
      "total time =  2572.6710366333073 h\n",
      "More detals in GJ 1148 b.txt\n",
      "GJ 1148 b            &   11.0 &   6.8 & &  0.166 &   1.10 & 2.99e-06 &   15.1 &  0.82 &    2572.67 & & \\\\\n",
      "\n",
      "total time =  197325830.5124276 h\n",
      "More detals in GJ 3512 b.txt\n",
      "GJ 3512 b            &    9.5 &   8.7 & &  0.338 &   1.13 & 7.72e-07 &   35.6 &  1.93 & 197325830.51 & & \\\\\n",
      "\n",
      "total time =  181110.67815354883 h\n",
      "More detals in HD 3651 b.txt\n",
      "HD 3651 b            &   11.1 &   4.0 & &  0.295 &   0.92 & 6.73e-07 &   26.5 &  1.44 &  181110.68 & & \\\\\n",
      "\n",
      "total time =  167401.74958078846 h\n",
      "More detals in GJ 876 b.txt\n",
      "GJ 876 b             &    4.7 &   5.0 & &  0.208 &   1.06 & 1.79e-06 &   44.5 &  2.42 &  167401.75 & & \\\\\n",
      "\n",
      "total time =  23642.152562922176 h\n",
      "More detals in GJ 876 c.txt\n",
      "GJ 876 c             &    4.7 &   5.0 & &  0.130 &   1.11 & 5.07e-06 &   27.7 &  1.50 &   23642.15 & & \\\\\n",
      "\n",
      "total time =  749399.4157695303 h\n",
      "More detals in HIP 79431 b.txt\n",
      "HIP 79431 b          &   14.5 &   6.6 & &  0.360 &   1.07 & 6.03e-07 &   24.8 &  1.34 &  749399.42 & & \\\\\n",
      "\n"
     ]
    }
   ],
   "source": [
    "\n",
    "calc_total_time(star_name=\"55 Cnc c\", filt=filt, mag_bg=mag_bg, b_arr=b_arr, w_arr=w_arr, eta=eta)\n",
    "\n",
    "calc_total_time(star_name=\"GJ 1148 b\", filt=filt, mag_bg=mag_bg, b_arr=b_arr, w_arr=w_arr, eta=eta)\n",
    "\n",
    "calc_total_time(star_name=\"GJ 3512 b\", filt=filt, mag_bg=mag_bg, b_arr=b_arr, w_arr=w_arr, eta=eta)\n",
    "\n",
    "calc_total_time(star_name=\"HD 3651 b\", filt=filt, mag_bg=mag_bg, b_arr=b_arr, w_arr=w_arr, eta=eta)\n",
    "\n",
    "calc_total_time(star_name=\"GJ 876 b\", filt=filt, mag_bg=mag_bg, b_arr=b_arr, w_arr=w_arr, eta=eta)\n",
    "\n",
    "calc_total_time(star_name=\"GJ 876 c\", filt=filt, mag_bg=mag_bg, b_arr=b_arr, w_arr=w_arr, eta=eta)\n",
    "\n",
    "calc_total_time(star_name=\"HIP 79431 b\", filt=filt, mag_bg=mag_bg, b_arr=b_arr, w_arr=w_arr, eta=eta)"
   ]
  },
  {
   "cell_type": "markdown",
   "metadata": {},
   "source": [
    "## L band results"
   ]
  },
  {
   "cell_type": "code",
   "execution_count": 718,
   "metadata": {},
   "outputs": [],
   "source": [
    "b_arr = np.array([2.00, 0.43, 0.50, 0.31, 0.21, 0.39, 0.06, 0.04, 0.17, 0.09])\n",
    "w_arr = np.array([1e-2] * len(b_arr))\n",
    "mag_bg = 2.0\n",
    "filt = \"L\"\n",
    "eta = 0.1"
   ]
  },
  {
   "cell_type": "code",
   "execution_count": 719,
   "metadata": {},
   "outputs": [
    {
     "name": "stdout",
     "output_type": "stream",
     "text": [
      "total time =  72275.03529433919 h\n",
      "More detals in 55 Cnc c.txt\n",
      "55 Cnc c             &   12.6 &   4.0 & &  0.241 &   0.78 & 7.18e-07 &   19.2 &  0.59 &   72275.04 & & \\\\\n",
      "\n",
      "total time =  910411.2869261988 h\n",
      "More detals in GJ 1148 b.txt\n",
      "GJ 1148 b            &   11.0 &   6.7 & &  0.166 &   1.10 & 2.99e-06 &   15.1 &  0.47 &  910411.29 & & \\\\\n",
      "\n",
      "total time =  571176211.3427496 h\n",
      "More detals in GJ 3512 b.txt\n",
      "GJ 3512 b            &    9.5 &   8.7 & &  0.338 &   1.13 & 7.72e-07 &   35.6 &  1.11 & 571176211.34 & & \\\\\n",
      "\n",
      "total time =  45337.588163709326 h\n",
      "More detals in HD 3651 b.txt\n",
      "HD 3651 b            &   11.1 &   3.8 & &  0.295 &   0.92 & 6.73e-07 &   26.5 &  0.82 &   45337.59 & & \\\\\n",
      "\n",
      "total time =  986075.3611719491 h\n",
      "More detals in GJ 876 b.txt\n",
      "GJ 876 b             &    4.7 &   4.9 & &  0.208 &   1.06 & 1.79e-06 &   44.5 &  1.38 &  986075.36 & & \\\\\n",
      "\n",
      "total time =  5626.369359193455 h\n",
      "More detals in GJ 876 c.txt\n",
      "GJ 876 c             &    4.7 &   4.9 & &  0.130 &   1.11 & 5.07e-06 &   27.7 &  0.86 &    5626.37 & & \\\\\n",
      "\n",
      "total time =  7506157.927372201 h\n",
      "More detals in HIP 79431 b.txt\n",
      "HIP 79431 b          &   14.5 &   6.5 & &  0.360 &   1.07 & 6.03e-07 &   24.8 &  0.77 & 7506157.93 & & \\\\\n",
      "\n"
     ]
    }
   ],
   "source": [
    "\n",
    "calc_total_time(star_name=\"55 Cnc c\", filt=filt, mag_bg=mag_bg, b_arr=b_arr, w_arr=w_arr, eta=eta)\n",
    "\n",
    "calc_total_time(star_name=\"GJ 1148 b\", filt=filt, mag_bg=mag_bg, b_arr=b_arr, w_arr=w_arr, eta=eta)\n",
    "\n",
    "calc_total_time(star_name=\"GJ 3512 b\", filt=filt, mag_bg=mag_bg, b_arr=b_arr, w_arr=w_arr, eta=eta)\n",
    "\n",
    "calc_total_time(star_name=\"HD 3651 b\", filt=filt, mag_bg=mag_bg, b_arr=b_arr, w_arr=w_arr, eta=eta)\n",
    "\n",
    "calc_total_time(star_name=\"GJ 876 b\", filt=filt, mag_bg=mag_bg, b_arr=b_arr, w_arr=w_arr, eta=eta)\n",
    "\n",
    "calc_total_time(star_name=\"GJ 876 c\", filt=filt, mag_bg=mag_bg, b_arr=b_arr, w_arr=w_arr, eta=eta)\n",
    "\n",
    "calc_total_time(star_name=\"HIP 79431 b\", filt=filt, mag_bg=mag_bg, b_arr=b_arr, w_arr=w_arr, eta=eta)"
   ]
  },
  {
   "cell_type": "code",
   "execution_count": null,
   "metadata": {},
   "outputs": [],
   "source": []
  }
 ],
 "metadata": {
  "kernelspec": {
   "display_name": "Python 3",
   "language": "python",
   "name": "python3"
  },
  "language_info": {
   "codemirror_mode": {
    "name": "ipython",
    "version": 3
   },
   "file_extension": ".py",
   "mimetype": "text/x-python",
   "name": "python",
   "nbconvert_exporter": "python",
   "pygments_lexer": "ipython3",
   "version": "3.6.10"
  }
 },
 "nbformat": 4,
 "nbformat_minor": 4
}
