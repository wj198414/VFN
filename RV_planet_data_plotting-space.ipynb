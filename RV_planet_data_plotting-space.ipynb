{
 "cells": [
  {
   "cell_type": "code",
   "execution_count": 1,
   "metadata": {},
   "outputs": [],
   "source": [
    "import numpy as np\n",
    "import matplotlib.pyplot as plt\n",
    "import astropy.io.ascii \n",
    "from astropy import units as u"
   ]
  },
  {
   "cell_type": "code",
   "execution_count": 2,
   "metadata": {},
   "outputs": [],
   "source": [
    "tab = astropy.io.ascii.read(\"planets_2020.04.23_19.58.57.csv\")"
   ]
  },
  {
   "cell_type": "code",
   "execution_count": 3,
   "metadata": {},
   "outputs": [
    {
     "name": "stdout",
     "output_type": "stream",
     "text": [
      "['pl_hostname', 'pl_letter', 'pl_name', 'pl_discmethod', 'pl_controvflag', 'pl_pnum', 'pl_orbper', 'pl_orbpererr1', 'pl_orbpererr2', 'pl_orbperlim', 'pl_orbsmax', 'pl_orbsmaxerr1', 'pl_orbsmaxerr2', 'pl_orbsmaxlim', 'pl_orbeccen', 'pl_orbeccenerr1', 'pl_orbeccenerr2', 'pl_orbeccenlim', 'pl_orbincl', 'pl_orbinclerr1', 'pl_orbinclerr2', 'pl_orbincllim', 'pl_bmassj', 'pl_bmassjerr1', 'pl_bmassjerr2', 'pl_bmassjlim', 'pl_bmassprov', 'pl_radj', 'pl_radjerr1', 'pl_radjerr2', 'pl_radjlim', 'pl_dens', 'pl_denserr1', 'pl_denserr2', 'pl_denslim', 'pl_ttvflag', 'pl_kepflag', 'pl_k2flag', 'pl_nnotes', 'ra_str', 'ra', 'dec_str', 'dec', 'st_dist', 'st_disterr1', 'st_disterr2', 'st_distlim', 'gaia_dist', 'gaia_disterr1', 'gaia_disterr2', 'gaia_distlim', 'st_optmag', 'st_optmagerr', 'st_optmaglim', 'st_optband', 'gaia_gmag', 'gaia_gmagerr', 'gaia_gmaglim', 'st_teff', 'st_tefferr1', 'st_tefferr2', 'st_tefflim', 'st_mass', 'st_masserr1', 'st_masserr2', 'st_masslim', 'st_rad', 'st_raderr1', 'st_raderr2', 'st_radlim', 'rowupdate', 'pl_facility', 'st_vj', 'st_vjerr', 'st_vjlim', 'st_j', 'st_jerr', 'st_jlim', 'st_h', 'st_herr', 'st_hlim', 'st_k', 'st_kerr', 'st_klim', 'st_wise1', 'st_wise1err', 'st_wise1lim', 'st_wise2', 'st_wise2err', 'st_wise2lim']\n"
     ]
    }
   ],
   "source": [
    "print(tab.colnames)"
   ]
  },
  {
   "cell_type": "markdown",
   "metadata": {},
   "source": [
    "## calculate contrast and separation"
   ]
  },
  {
   "cell_type": "code",
   "execution_count": 15,
   "metadata": {},
   "outputs": [
    {
     "name": "stdout",
     "output_type": "stream",
     "text": [
      " 1 & 61 Vir b             &   199.601318 &   -18.311195 &    8.5 &   3.0 &  0.050 &   0.19 & 1.01e-06 &    5.9 \\\\\n",
      " 2 & GJ 1061 b            &    53.998836 &   -44.512634 &    3.7 &   6.6 &  0.021 &   0.10 & 1.47e-06 &    5.7 \\\\\n",
      " 3 & GJ 1061 c            &    53.998836 &   -44.512634 &    3.7 &   6.6 &  0.035 &   0.10 & 6.07e-07 &    9.5 \\\\\n",
      " 4 & GJ 1061 d            &    53.998836 &   -44.512634 &    3.7 &   6.6 &  0.054 &   0.10 & 2.47e-07 &   14.7 \\\\\n",
      " 5 & GJ 15 A b            &     4.595356 &    44.022953 &    3.6 &   4.0 &  0.072 &   0.14 & 2.67e-07 &   20.2 \\\\\n",
      " 6 & GJ 3323 b            &    75.489280 &    -6.946263 &    5.4 &   6.7 &  0.033 &   0.11 & 7.96e-07 &    6.1 \\\\\n",
      " 7 & GJ 357 c             &   144.006821 &   -21.660797 &    9.4 &   6.5 &  0.061 &   0.15 & 4.26e-07 &    6.5 \\\\\n",
      " 8 & GJ 536 b             &   210.263290 &    -2.654864 &   10.4 &   5.7 &  0.067 &   0.20 & 6.11e-07 &    6.4 \\\\\n",
      " 9 & GJ 625 b             &   246.352600 &    54.304104 &    6.5 &   5.8 &  0.078 &   0.14 & 2.07e-07 &   12.1 \\\\\n",
      "10 & GJ 667 C c           &   259.745085 &   -34.996827 &    7.2 &   6.0 &  0.125 &   0.16 & 1.16e-07 &   17.2 \\\\\n",
      "11 & GJ 682 b             &   264.265259 &   -44.319214 &    5.0 &   5.6 &  0.080 &   0.18 & 3.35e-07 &   16.0 \\\\\n",
      "12 & GJ 832 c             &   323.391571 &   -49.009006 &    5.0 &   4.5 &  0.163 &   0.20 & 1.03e-07 &   32.8 \\\\\n",
      "13 & HD 136352 b          &   230.450623 &   -48.317627 &   14.7 &   4.2 &  0.093 &   0.19 & 2.73e-07 &    6.4 \\\\\n",
      "14 & HD 219134 b          &   348.320740 &    57.168354 &    6.5 &   3.3 &  0.039 &   0.14 & 9.33e-07 &    5.9 \\\\\n",
      "15 & HD 219134 c          &   348.320740 &    57.168354 &    6.5 &   3.3 &  0.065 &   0.14 & 2.93e-07 &   10.0 \\\\\n",
      "16 & LHS 1140 b           &    11.247240 &   -15.271532 &   15.0 &   8.8 &  0.094 &   0.15 & 1.85e-07 &    6.2 \\\\\n",
      "17 & LTT 1445 A b         &    45.464111 &   -16.593372 &    6.9 &   6.5 &  0.038 &   0.12 & 7.15e-07 &    5.5 \\\\\n",
      "18 & Proxima Cen b        &   217.428955 &   -62.679485 &    1.3 &   4.4 &  0.049 &   0.10 & 2.65e-07 &   37.3 \\\\\n",
      "19 & Ross 128 b           &   176.934982 &     0.804563 &    3.4 &   5.7 &  0.050 &   0.10 & 2.67e-07 &   14.7 \\\\\n",
      "20 & Teegarden's Star b   &    43.253708 &    16.881289 &    3.8 &   7.6 &  0.025 &   0.09 & 8.82e-07 &    6.6 \\\\\n",
      "21 & Teegarden's Star c   &    43.253708 &    16.881289 &    3.8 &   7.6 &  0.044 &   0.09 & 2.94e-07 &   11.6 \\\\\n",
      "22 & Wolf 1061 b          &   247.575241 &   -12.662594 &    4.3 &   5.1 &  0.037 &   0.11 & 5.57e-07 &    8.7 \\\\\n",
      "23 & Wolf 1061 c          &   247.575241 &   -12.662594 &    4.3 &   5.1 &  0.089 &   0.15 & 2.01e-07 &   20.6 \\\\\n"
     ]
    }
   ],
   "source": [
    "contrast_arr = np.zeros((len(tab)))\n",
    "sma_arr = np.zeros((len(tab)))\n",
    "sep_arr = np.zeros((len(tab)))\n",
    "rad_arr = np.zeros((len(tab)))\n",
    "dis_arr = np.zeros((len(tab)))\n",
    "\n",
    "def cal_rad(mass):\n",
    "    if mass < (2.0 * u.earthMass):\n",
    "        rad = (((mass / (1.0 * u.earthMass)).decompose())**(0.28) * u.earthRad).to(u.jupiterRad)\n",
    "    elif mass < (0.41 * u.jupiterMass):\n",
    "        rad = (((mass / (14.5 * u.earthMass)).decompose())**(0.59) * (4.01 * u.earthRad)).to(u.jupiterRad)\n",
    "    elif mass < (0.08 * u.solMass):\n",
    "        rad = ((mass / (1 * u.jupiterMass)).decompose())**(-0.04) * (1.1 * u.jupiterRad)\n",
    "    else:\n",
    "        rad = ((mass / (0.08 * u.solMass)).decompose())**(0.88) * (0.95 * u.jupiterRad) \n",
    "    return(rad)\n",
    "\n",
    "k = 0\n",
    "for i, tmp in enumerate(tab[\"pl_name\"]):\n",
    "    if tab[\"pl_orbper\"].mask[i] == False:\n",
    "        # calculating sma\n",
    "        if tab[\"pl_orbsmax\"].mask[i] == True:\n",
    "            if tab[\"st_mass\"].mask[i] == True:\n",
    "                sma = ((tab[\"pl_orbper\"][i] / 365.0)**2 * 1.0)**(0.33) * u.AU\n",
    "            else:\n",
    "                sma = ((tab[\"pl_orbper\"][i] / 365.0)**2 * tab[\"st_mass\"][i])**(0.33) * u.AU\n",
    "        else:\n",
    "            sma = tab[\"pl_orbsmax\"][i] * u.AU\n",
    "\n",
    "        # calculating angular separation\n",
    "        if tab[\"gaia_dist\"].mask[i] == True:\n",
    "            if tab[\"gaia_dist\"].mask[i] == True:\n",
    "                dis = 999 * u.parsec\n",
    "            else:\n",
    "                dis = tab[\"st_dist\"][i] * u.parsec\n",
    "        else:\n",
    "            dis = tab[\"gaia_dist\"][i] * u.parsec\n",
    "        sep = ((sma / dis).decompose() * u.radian).to(u.arcsec)\n",
    "\n",
    "        # calculating planet radius, https://arxiv.org/pdf/1603.08614.pdf\n",
    "        if tab[\"pl_radj\"].mask[i] == True:\n",
    "            if tab[\"pl_bmassj\"].mask[i] == False:\n",
    "                mass = tab[\"pl_bmassj\"][i] * u.jupiterMass\n",
    "                rad = cal_rad(mass)\n",
    "            else:\n",
    "                rad = 1.0 * u.jupiterRad\n",
    "        else:\n",
    "            rad = tab[\"pl_radj\"][i] * u.jupiterRad\n",
    "\n",
    "        # calculating contrast\n",
    "        albedo = 0.3\n",
    "        con = ((rad / sma).decompose())**2 * albedo\n",
    "\n",
    "\n",
    "        if (con > 1e-7) & (sep.value > 5e-3) & (tab[\"dec\"][i] > -100.0) & (rad < (0.2 * u.jupiterRad)):\n",
    "#             print(tab[\"pl_name\"][i], tab[\"pl_orbper\"][i], sma.value, tab[\"pl_bmassj\"][i], rad.value, \\\n",
    "#                   dis.value, tab[\"st_teff\"][i], tab[\"st_mass\"][i], con, sep.value, tab[\"dec\"][i], \\\n",
    "#                   tab[\"st_k\"][i], tab[\"st_wise1\"][i])\n",
    "            k = k + 1\n",
    "            print(\"{0:2.0f} & {1:20s} & {2:12.6f} & {3:12.6f} & {4:6.1f} & {5:5.1f} & {6:6.3f} & {7:6.2f} & {8:8.2e} & {9:6.1f} \\\\\\\\\".format(\\\n",
    "        k, tab[\"pl_name\"][i], tab[\"ra\"][i], tab[\"dec\"][i], dis.value, tab[\"st_k\"][i], sma.value, rad.value, con, sep.value * 1e3))\n",
    "#         elif tab[\"pl_name\"][i] == \"Ross 128 b\":\n",
    "#              print(tab[\"pl_name\"][i], tab[\"pl_orbper\"][i], sma.value, tab[\"pl_bmassj\"][i], rad.value, \\\n",
    "#                   dis.value, tab[\"st_teff\"][i], tab[\"st_mass\"][i], con, sep.value, tab[\"dec\"][i])           \n",
    "        else:\n",
    "            1 == 1\n",
    "\n",
    "        sma_arr[i] = sma.value\n",
    "        sep_arr[i] = sep.value\n",
    "        rad_arr[i] = rad.value\n",
    "        contrast_arr[i] = con\n",
    "        dis_arr[i] = dis.value\n",
    "    else:\n",
    "        sma_arr[i] = 1.0\n",
    "        sep_arr[i] = 1e-5\n",
    "        rad_arr[i] = 1.0\n",
    "        contrast_arr[i] = 1e-10       \n",
    "        dis_arr[i] = 1e3"
   ]
  },
  {
   "cell_type": "markdown",
   "metadata": {},
   "source": [
    "![title](eq4.png)\n"
   ]
  },
  {
   "cell_type": "code",
   "execution_count": 5,
   "metadata": {},
   "outputs": [],
   "source": [
    "# http://www.stsci.edu/~strolger/docs/UNITS.txt\n",
    "\n",
    "import astropy.constants as ac\n",
    "\n",
    "def cal_t0(mag=0.0, filt=\"K\", SNR=5.0, R=1e5, pl_st_con=1e-5, aper=11.8, eta=0.1, q=0.95):\n",
    "    if filt == \"K\":\n",
    "        wav = 2.0 * u.micron\n",
    "        f_zero = 3.90e-11 * u.erg / (u.cm)**2/ u.s / u.AA\n",
    "    elif filt == \"L\":\n",
    "        wav = 3.5 * u.micron\n",
    "        f_zero = 8.1e-12 * u.erg / (u.cm)**2/ u.s / u.AA\n",
    "    elif filt == \"J\":\n",
    "        wav = 1.2 * u.micron\n",
    "        f_zero = 3.4e-10 * u.erg / (u.cm)**2/ u.s / u.AA\n",
    "    elif filt == \"H\": # H zero-mag flux is 2.76 lower than J\n",
    "        # https://old.ipac.caltech.edu/2mass/releases/allsky/doc/sec6_4a.html\n",
    "        wav = 1.6 * u.micron\n",
    "        f_zero = 1.23e-10 * u.erg / (u.cm)**2/ u.s / u.AA\n",
    "        \n",
    "    e_ph = ac.h * ac.c / wav\n",
    "    f_zero = f_zero / e_ph\n",
    "    \n",
    "    f = f_zero / 2.512**(mag)\n",
    "    A = np.pi * (aper / 2.0 * u.meter)**2 * 2.0 # two sub-apertures\n",
    "    \n",
    "    t0 = R * SNR**2 / (wav * pl_st_con**2 * f * A * q * eta)\n",
    "    t0 = t0.decompose()\n",
    "    \n",
    "    return(t0)\n",
    "    \n",
    "    "
   ]
  },
  {
   "cell_type": "markdown",
   "metadata": {},
   "source": [
    "![title](eq9.png)\n"
   ]
  },
  {
   "cell_type": "code",
   "execution_count": 6,
   "metadata": {},
   "outputs": [],
   "source": [
    "def cal_tL(b=[1.0], w=[1e-1], gamma=[2], t0 = None, eta_p=1e-1):\n",
    "    tL = 0.0 * u.s\n",
    "    for bi, wi, gi in zip(b, w, gamma):\n",
    "        tL = tL + t0 / (eta_p)**2 * (bi * wi)**gi\n",
    "    return(tL)"
   ]
  },
  {
   "cell_type": "markdown",
   "metadata": {},
   "source": [
    "![](eq12.png)\n"
   ]
  },
  {
   "cell_type": "code",
   "execution_count": 7,
   "metadata": {},
   "outputs": [],
   "source": [
    "def cal_tbg(t0=None, eta_p=1e-1, mag_bg=0.0, mag=0.0, fiber_area=1.0):\n",
    "    # https://www2.keck.hawaii.edu/inst/nirc2/filters.html\n",
    "    # skg bg = 12.2 in K and 2.9 in L\n",
    "    f_bg_over_f_star = 2.512**(mag - mag_bg) * fiber_area # fiber_area in arcsec**2\n",
    "    tbg = f_bg_over_f_star * t0 / (eta_p)**2\n",
    "    return(tbg)"
   ]
  },
  {
   "cell_type": "markdown",
   "metadata": {},
   "source": [
    "![](eq13.png)\n"
   ]
  },
  {
   "cell_type": "code",
   "execution_count": 8,
   "metadata": {},
   "outputs": [],
   "source": [
    "def cal_dc(mag=0.0, filt=\"K\", R=1e5, aper=11.8, eta=0.1, q=0.95, t0=None, eta_p=1e-1, i_dark=1.0, pixel_sampling=3.0):\n",
    "    if filt == \"K\":\n",
    "        wav = 2.0 * u.micron\n",
    "        f_zero = 3.90e-11 * u.erg / (u.cm)**2/ u.s / u.AA\n",
    "    elif filt == \"L\":\n",
    "        wav = 3.5 * u.micron\n",
    "        f_zero = 8.1e-12 * u.erg / (u.cm)**2/ u.s / u.AA\n",
    "    elif filt == \"J\":\n",
    "        wav = 1.2 * u.micron\n",
    "        f_zero = 3.4e-10 * u.erg / (u.cm)**2/ u.s / u.AA\n",
    "    elif filt == \"H\": # H zero-mag flux is 2.76 lower than J\n",
    "        # https://old.ipac.caltech.edu/2mass/releases/allsky/doc/sec6_4a.html\n",
    "        wav = 1.6 * u.micron\n",
    "        f_zero = 1.23e-10 * u.erg / (u.cm)**2/ u.s / u.AA\n",
    "        \n",
    "    e_ph = ac.h * ac.c / wav\n",
    "    f_zero = f_zero / e_ph\n",
    "    \n",
    "    f = f_zero / 2.512**(mag)\n",
    "    A = np.pi * (aper / 2.0 * u.meter)**2\n",
    "    \n",
    "    signal_pixel = (f * wav *  A * q * eta / (R * pixel_sampling)).decompose()\n",
    "    dc_pixel = i_dark / u.s\n",
    "    \n",
    "    tdc = (dc_pixel / signal_pixel * t0 / (eta_p)**2).decompose()\n",
    "    \n",
    "    return(tdc)"
   ]
  },
  {
   "cell_type": "markdown",
   "metadata": {},
   "source": [
    "![](eq14.png)"
   ]
  },
  {
   "cell_type": "code",
   "execution_count": 9,
   "metadata": {},
   "outputs": [],
   "source": [
    "def cal_trd(Nrd=2.0, eta_s=1e-5, eta_p=1e-1, t0=None, W=2**16):\n",
    "    trd = Nrd**2 / W * eta_s / (eta_p)**2 * t0\n",
    "    return(trd)\n"
   ]
  },
  {
   "cell_type": "markdown",
   "metadata": {},
   "source": [
    "![](eq7.png)"
   ]
  },
  {
   "cell_type": "code",
   "execution_count": 10,
   "metadata": {},
   "outputs": [],
   "source": [
    "def cal_tfs(Rs=1.0, dis=10.0, aper=22.8, filt=\"K\", t0=None, eta_p=1e-1):\n",
    "    if filt == \"K\":\n",
    "        wav = 2.0 * u.micron\n",
    "    elif filt == \"L\":\n",
    "        wav = 3.5 * u.micron\n",
    "    elif filt == \"J\":\n",
    "        wav = 1.2 * u.micron\n",
    "    elif filt == \"H\": \n",
    "        wav = 1.6 * u.micron\n",
    "\n",
    "    Rs = Rs * u.solRad\n",
    "    dis = dis * u.parsec\n",
    "    aper = aper * u.meter\n",
    "    \n",
    "    tfs = (Rs / dis / np.sqrt(12) * aper / wav)**2 / (eta_p)**2 * t0\n",
    "    tfs = tfs.decompose()\n",
    "    return(tfs)"
   ]
  },
  {
   "cell_type": "markdown",
   "metadata": {},
   "source": [
    "## Now let's put all togher to calculate the required exposure time for a target"
   ]
  },
  {
   "cell_type": "code",
   "execution_count": 11,
   "metadata": {},
   "outputs": [],
   "source": [
    "b_arr = np.array([2.00, 0.43, 0.50, 0.31, 0.21, 0.39, 0.06, 0.04, 0.17, 0.09])\n",
    "w_arr = np.array([1e-2] * len(b_arr))\n",
    "gamma = np.array([2] * len(b_arr))\n",
    "\n",
    "def calc_total_time(star_name=None, eta_p=1e-1, filt=\"K\", mag_bg=12.2, b_arr=b_arr, w_arr=w_arr, \\\n",
    "                   aper=4.0, baseline=20.0, eta=0.1, boost_factor=1600, gamma=gamma):\n",
    "    \n",
    "    eta_s = np.sum((b_arr * w_arr)**gamma)\n",
    "\n",
    "    ind = np.where(tab[\"pl_name\"] == star_name)[0][0]\n",
    "    pl_st_con = contrast_arr[ind]\n",
    "    sep = sep_arr[ind]\n",
    "    q = 0.95\n",
    "    R = 1e5\n",
    "    pixel_sampling = 3.0\n",
    "    SNR = 5.0\n",
    "    if tab[\"st_rad\"].mask[ind] == False:\n",
    "        Rs = tab[\"st_rad\"][ind]\n",
    "    else:\n",
    "        if tab[\"st_mass\"].mask[ind] == False:\n",
    "            mass = tab[\"st_mass\"][ind] * u.solMass\n",
    "            Rs = cal_rad(mass).to(u.solRad).value\n",
    "        else:\n",
    "            Rs = 999.0 \n",
    "    \n",
    "    dis = dis_arr[ind]\n",
    "    \n",
    "    if filt == \"K\":\n",
    "        mag = tab[\"st_k\"][ind]\n",
    "        wav = 2.0 * u.micron\n",
    "    elif filt == \"L\":\n",
    "        wav = 3.5 * u.micron\n",
    "        if tab[\"st_wise1\"].mask[ind] == False:\n",
    "            mag = tab[\"st_wise1\"][ind]\n",
    "        else:\n",
    "            mag = tab[\"st_k\"][ind]\n",
    "    elif filt == \"J\":\n",
    "        wav = 1.2 * u.micron\n",
    "        mag = tab[\"st_j\"][ind]\n",
    "    elif filt == \"H\": \n",
    "        wav = 1.6 * u.micron\n",
    "        mag = tab[\"st_h\"][ind]\n",
    "    else:\n",
    "        mag = 999\n",
    "        \n",
    "    lambda_D = ((wav / (baseline * u.meter).decompose()) * u.radian).to(u.arcsec)\n",
    "        \n",
    "    if baseline != aper:\n",
    "        fiber_area = np.pi * ((((1.4 * wav / (baseline * u.meter) / 2.0).decompose()) * u.radian).to(u.arcsec).value)**2\n",
    "        fiber_area = fiber_area * (baseline / aper / np.sqrt(2))\n",
    "    else:\n",
    "        fiber_area = np.pi * ((((1.4 * wav / (baseline * u.meter) / 2.0).decompose()) * u.radian).to(u.arcsec).value)**2\n",
    "\n",
    "    Nrd = 2.0\n",
    "    W = 2**16\n",
    "    i_dark = 1e-2\n",
    "\n",
    "    t0 = cal_t0(mag=mag, filt=filt, SNR=SNR, R=R, pl_st_con=pl_st_con, aper=aper, eta=eta, q=q)\n",
    "    \n",
    "    tfs = cal_tfs(Rs=Rs, dis=dis, aper=baseline, filt=filt, t0=t0, eta_p=eta_p)\n",
    "\n",
    "    tL = cal_tL(b=b_arr, w=w_arr, gamma=gamma, t0 = t0, eta_p=eta_p)\n",
    "\n",
    "    tbg = cal_tbg(t0=t0, eta_p=eta_p, mag_bg=mag_bg, mag=mag, fiber_area=fiber_area)\n",
    "\n",
    "    trd = cal_trd(Nrd=Nrd, eta_s=eta_s, eta_p=eta_p, t0=t0, W=W)\n",
    "\n",
    "    tdc = cal_dc(mag=mag, filt=filt, R=R, aper=aper, eta=eta, q=q, t0=t0, eta_p=eta_p, i_dark=i_dark, \\\n",
    "             pixel_sampling=pixel_sampling)\n",
    "\n",
    "    t_total = tfs + tL + tbg + trd + tdc\n",
    "\n",
    "    with open(star_name+\".txt\", \"wb\") as f:\n",
    "        f.write(bytes(\"\\multicolumn{4}{c}{\\\\bf{Star Parameters}}\\\\\\\\\\n\", \"UTF-8\"))\n",
    "        f.write(bytes(\"star name\\t\\t&=& {0:<30s}&\\\\\\\\\\n\".format(star_name), \"UTF-8\"))\n",
    "        f.write(bytes(\"magnitude\\t\\t&=& {0:<6.2f} &mag\\\\\\\\\\n\".format(mag), \"UTF-8\"))\n",
    "        f.write(bytes(\"distance\\t\\t&=& {0:<10.2f} &pc\\\\\\\\\\n\".format(dis), \"UTF-8\"))\n",
    "        f.write(bytes(\"star radius\\t\\t&=& {0:<6.2f} &solar radii\\\\\\\\\\n\".format(Rs), \"UTF-8\"))\n",
    "        f.write(bytes(\"planet-star contrast\\t&=& {0:<8.2e}&\\\\\\\\\\n\".format(pl_st_con), \"UTF-8\"))\n",
    "        f.write(bytes(\"planet-star separation\\t&=& {0:<8.2f} &mas\\\\\\\\\\n\".format(sep * 1e3), \"UTF-8\"))\n",
    "        f.write(bytes(\"\\multicolumn{4}{c}{\\\\bf{Telescope Parameters}}\\\\\\\\\\n\", \"UTF-8\"))\n",
    "        f.write(bytes(\"aperture\\t\\t&=& {0:<8.2f} &meter\\\\\\\\\\n\".format(aper), \"UTF-8\"))\n",
    "        f.write(bytes(\"baseline\\t\\t&=& {0:<8.2f} &meter\\\\\\\\\\n\".format(baseline), \"UTF-8\"))\n",
    "        f.write(bytes(\"wavelength\\t\\t&=& {0:<8.2f} &um\\\\\\\\\\n\".format(wav.value), \"UTF-8\"))\n",
    "        f.write(bytes(\"lambda/D\\t\\t&=& {0:<8.2f} &mas\\\\\\\\\\n\".format(lambda_D.value * 1e3), \"UTF-8\"))\n",
    "        f.write(bytes(\"\\multicolumn{4}{c}{\\\\bf{Coronagraph Parameters}}\\\\\\\\\\n\", \"UTF-8\"))\n",
    "        f.write(bytes(\"filter\\t\\t\\t&=& {0:<10s}&\\\\\\\\\\n\".format(filt), \"UTF-8\"))\n",
    "        f.write(bytes(\"starlight suppression\\t&=& {0:<8.2e}&\\\\\\\\\\n\".format(eta_s), \"UTF-8\"))\n",
    "        f.write(bytes(\"planet throughput\\t&=& {0:<8.2e}&\\\\\\\\\\n\".format(eta_p), \"UTF-8\"))\n",
    "        f.write(bytes(\"bmn array\\t\\t&=& {0:<100s}&\\\\\\\\\\n\".format(str(b_arr)), \"UTF-8\"))\n",
    "        f.write(bytes(\"aberration array\\t&=& {0:<100s}&\\\\\\\\\\n\".format(str(w_arr)), \"UTF-8\"))\n",
    "        f.write(bytes(\"gamma array\\t&=& {0:<100s}&\\\\\\\\\\n\".format(str(gamma)), \"UTF-8\"))\n",
    "        f.write(bytes(\"\\multicolumn{4}{c}{\\\\bf{Spectrograph Parameters}}\\\\\\\\\\n\", \"UTF-8\"))\n",
    "        f.write(bytes(\"required SNR\\t\\t&=& {0:<8.1f}&\\\\\\\\\\n\".format(SNR), \"UTF-8\"))\n",
    "        f.write(bytes(\"background\\t\\t&=& {0:<6.2f} &mag / arcsec**2\\\\\\\\\\n\".format(mag_bg), \"UTF-8\"))\n",
    "        f.write(bytes(\"spectral resolution\\t&=& {0:<8.0f}&\\\\\\\\\\n\".format(R), \"UTF-8\"))\n",
    "        f.write(bytes(\"pixel sampling rate\\t&=& {0:<5.1f} &pixel per resolution element\\\\\\\\\\n\".format(pixel_sampling), \"UTF-8\"))\n",
    "        f.write(bytes(\"system throughput\\t&=& {0:<6.3f}&\\\\\\\\\\n\".format(eta), \"UTF-8\"))\n",
    "        f.write(bytes(\"fiber size\\t\\t&=& {0:<8.2e} &arcsec**2\\\\\\\\\\n\".format(fiber_area), \"UTF-8\"))\n",
    "        f.write(bytes(\"\\multicolumn{4}{c}{\\\\bf{Detector Parameters}}\\\\\\\\\\n\", \"UTF-8\"))\n",
    "        f.write(bytes(\"dark current\\t\\t&=& {0:<8.2e} &electron/pixel/s\\\\\\\\\\n\".format(i_dark), \"UTF-8\"))\n",
    "        f.write(bytes(\"readout noise\\t\\t&=& {0:<8.4f} &electron/read\\\\\\\\\\n\".format(Nrd), \"UTF-8\"))\n",
    "        f.write(bytes(\"quantum efficiency\\t&=& {0:<6.3f}&\\\\\\\\\\n\".format(q), \"UTF-8\"))\n",
    "        f.write(bytes(\"well depth\\t\\t&=& {0:<8.0f} &ADU\\\\\\\\\\n\".format(W), \"UTF-8\"))\n",
    "        f.write(bytes(\"\\multicolumn{4}{c}{\\\\bf{Exposure Times}}\\\\\\\\\\n\", \"UTF-8\"))\n",
    "        f.write(bytes(\"t0\\t\\t\\t&=& {0:<10.5e} &s\\\\\\\\\\n\".format(t0.value), \"UTF-8\"))\n",
    "        f.write(bytes(\"finite star time\\t&=& {0:<10.5e} &s\\\\\\\\\\n\".format(tfs.value), \"UTF-8\"))\n",
    "        f.write(bytes(\"low order time\\t\\t&=& {0:<10.5e} &s\\\\\\\\\\n\".format(tL.value), \"UTF-8\"))\n",
    "        f.write(bytes(\"background time\\t\\t&=& {0:<10.5e} &s\\\\\\\\\\n\".format(tbg.value), \"UTF-8\"))\n",
    "        f.write(bytes(\"readout noise time\\t&=& {0:<10.5e} &s\\\\\\\\\\n\".format(trd.value), \"UTF-8\"))\n",
    "        f.write(bytes(\"dark current time\\t&=& {0:<10.5e} &s\\\\\\\\\\n\".format(tdc.value), \"UTF-8\"))\n",
    "        f.write(bytes(\"total time\\t\\t&=& {0:<10.5e} &s\\\\\\\\\\n\".format(t_total.value), \"UTF-8\"))\n",
    "        f.write(bytes(\"total time\\t\\t&=& {0:<10.2f} &hour\\\\\\\\\\n\".format(t_total.to(u.hour).value), \"UTF-8\"))\n",
    "        f.write(bytes(\"boost factor\\t\\t&=& {0:<8.1f} &\\\\\\\\\\n\".format(boost_factor), \"UTF-8\"))\n",
    "        f.write(bytes(\"total time\\t\\t&=& {0:<10.2f} &hour\\\\\\\\\\n\".format(t_total.to(u.hour).value/boost_factor), \"UTF-8\"))\n",
    "\n",
    "    print(\"total time = \", t_total.to(u.hour))\n",
    "    print(\"More detals in \"+star_name+\".txt\")\n",
    "    print(\"{0:20s} & {1:6.1f} & {2:5.1f} & {3:6.3f} & {4:6.2f} & {5:8.2e} & {6:6.1f} & {7:5.2f} & {8:10.2f} \\\\\\\\\\n\".format(\\\n",
    "        star_name, dis, mag, sma_arr[ind], rad_arr[ind], pl_st_con, sep_arr[ind] * 1e3, sep_arr[ind] / lambda_D.value, \\\n",
    "        t_total.to(u.hour).value/boost_factor))"
   ]
  },
  {
   "cell_type": "markdown",
   "metadata": {},
   "source": [
    "## Plot seleted targets"
   ]
  },
  {
   "cell_type": "code",
   "execution_count": 12,
   "metadata": {},
   "outputs": [
    {
     "data": {
      "image/png": "[encoded data removed]",
      "text/plain": [
       "<Figure size 432x432 with 1 Axes>"
      ]
     },
     "metadata": {
      "needs_background": "light"
     },
     "output_type": "display_data"
    }
   ],
   "source": [
    "con_threshold = 1e-7\n",
    "sep_threshold = 5e-3\n",
    "rad_threshold = 0.2\n",
    "\n",
    "plt.figure(figsize=(6,6))\n",
    "\n",
    "font_size = 15\n",
    "\n",
    "plt.plot(sep_arr, contrast_arr, 'k.')\n",
    "\n",
    "plt.xscale(\"log\")\n",
    "plt.yscale(\"log\")\n",
    "plt.xlabel(\"Separation [arcsec]\", fontsize=font_size)\n",
    "plt.ylabel(\"Contrast\", fontsize=font_size)\n",
    "plt.gca().tick_params(labelsize=font_size)\n",
    "plt.xlim(5e-3, 1e-1)\n",
    "plt.ylim(1e-7, 2e-6)\n",
    "\n",
    "\n",
    "lambda_D = (((1.0 * u.micron) / (10.0 * u.meter).decompose()) * u.radian).to(u.arcsec)\n",
    "plt.vlines(lambda_D.value, 1e-10, 1e-5, color=\"black\", linestyle=\"dashed\")\n",
    "\n",
    "lambda_D = (((1.0 * u.micron) / (30.0 * u.meter).decompose()) * u.radian).to(u.arcsec)\n",
    "plt.vlines(lambda_D.value, 1e-10, 1e-5, color=\"black\", linestyle=\"dotted\")\n",
    "\n",
    "# lambda_D = (((2.0 * u.micron) / (22.4 * u.meter).decompose()) * u.radian).to(u.arcsec)\n",
    "# plt.vlines(lambda_D.value, 1e-10, 1e-5, color=\"blue\", linestyle=\"dashed\")\n",
    "\n",
    "# plt.hlines(5e-7, 1e-3, 1e-1, color=\"k\", linestyle=\"solid\")\n",
    "\n",
    "ind = np.where((contrast_arr > con_threshold) & (sep_arr > sep_threshold) & (rad_arr < 0.2))\n",
    "rot_arr = np.zeros((len(contrast_arr[ind]), ))\n",
    "for ii, i in enumerate(np.array(ind).flatten()):\n",
    "    if (tab[\"dec\"][i] > 0.0):\n",
    "        plt.plot(sep_arr[i], contrast_arr[i], color=\"r\", ms=15, marker=\"+\")\n",
    "        plt.annotate(tab[\"pl_name\"][i], xy=(sep_arr[i] * 1.1, contrast_arr[i]), rotation=rot_arr[ii], color=\"red\")\n",
    "    else:\n",
    "        plt.plot(sep_arr[i], contrast_arr[i], color=\"b\", ms=8, marker=\"x\")\n",
    "        plt.annotate(tab[\"pl_name\"][i], xy=(sep_arr[i] * 1.1, contrast_arr[i]), rotation=rot_arr[ii], color=\"blue\")\n",
    "\n",
    "\n"
   ]
  },
  {
   "cell_type": "code",
   "execution_count": 13,
   "metadata": {},
   "outputs": [
    {
     "name": "stdout",
     "output_type": "stream",
     "text": [
      "total time =  41199.277728925066 h\n",
      "More detals in GJ 1061 b.txt\n",
      "GJ 1061 b            &    3.7 &   6.6 &  0.021 &   0.10 & 1.47e-06 &    5.7 &  0.69 &      25.75 \\\\\n",
      "\n"
     ]
    }
   ],
   "source": [
    "b_arr = np.array([2.09, 0.48, 2.26, 0.26, 2.41, 0.36, 2.38, 0.03, 2.36, 0.06])\n",
    "w_arr = np.array([1e-2] * len(b_arr))\n",
    "gamma = np.array([2,2,4,2,4,2,4,2,4,2])\n",
    "\n",
    "calc_total_time(star_name=\"GJ 1061 b\", eta_p=35e-2, filt=\"K\", mag_bg=20.4, aper=4.0, baseline=50.0, \n",
    "                b_arr=b_arr, w_arr=w_arr, eta=0.1, gamma=gamma, boost_factor=1600.0)\n"
   ]
  },
  {
   "cell_type": "code",
   "execution_count": 14,
   "metadata": {},
   "outputs": [
    {
     "name": "stdout",
     "output_type": "stream",
     "text": [
      "total time =  201579.5621273316 h\n",
      "More detals in Proxima Cen b.txt\n",
      "Proxima Cen b        &    1.3 &   4.4 &  0.049 &   0.10 & 2.65e-07 &   37.3 &  1.03 &     164.55 \\\\\n",
      "\n"
     ]
    }
   ],
   "source": [
    "b_arr = np.array([2.09, 0.48, 2.26, 0.26, 2.41, 0.36, 2.38, 0.03, 2.36, 0.06])\n",
    "w_arr = np.array([1e-2] * len(b_arr))\n",
    "gamma = np.array([2,2,4,2,4,2,4,2,4,2])\n",
    "\n",
    "calc_total_time(star_name=\"Proxima Cen b\", eta_p=35e-2, filt=\"L\", mag_bg=19.5, aper=4.0, baseline=20.0, \n",
    "                b_arr=b_arr, w_arr=w_arr, eta=0.1, gamma=gamma, boost_factor=1225.0)"
   ]
  },
  {
   "cell_type": "code",
   "execution_count": null,
   "metadata": {},
   "outputs": [],
   "source": []
  }
 ],
 "metadata": {
  "kernelspec": {
   "display_name": "Python 3",
   "language": "python",
   "name": "python3"
  },
  "language_info": {
   "codemirror_mode": {
    "name": "ipython",
    "version": 3
   },
   "file_extension": ".py",
   "mimetype": "text/x-python",
   "name": "python",
   "nbconvert_exporter": "python",
   "pygments_lexer": "ipython3",
   "version": "3.6.10"
  }
 },
 "nbformat": 4,
 "nbformat_minor": 4
}
